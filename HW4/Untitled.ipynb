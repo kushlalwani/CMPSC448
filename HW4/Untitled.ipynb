{
 "cells": [
  {
   "cell_type": "markdown",
   "id": "d0f503f4-3e88-42d5-b8e3-acc7eb8da84b",
   "metadata": {},
   "source": [
    "# Homework 4 Code"
   ]
  },
  {
   "cell_type": "markdown",
   "id": "00902264-a533-4fd9-bb12-0507b76e2c1c",
   "metadata": {},
   "source": [
    "#### Kush Lalwani"
   ]
  },
  {
   "cell_type": "markdown",
   "id": "446dea17-5606-44ce-b021-909b2e8994bf",
   "metadata": {},
   "source": [
    "### Load Data and packages"
   ]
  },
  {
   "cell_type": "code",
   "execution_count": null,
   "id": "1696c61b-3917-4ad1-b73c-e987ef46d0f1",
   "metadata": {},
   "outputs": [],
   "source": [
    "import numpy as np\n",
    "import pandas as pd\n",
    "\n",
    "from sklearn.datasets import load_svmlight_file\n",
    "from sklearn.model_selection import train_test_split, cross_val_score, GridSearchCV\n",
    "\n"
   ]
  }
 ],
 "metadata": {
  "kernelspec": {
   "display_name": "Python 3 (ipykernel)",
   "language": "python",
   "name": "python3"
  },
  "language_info": {
   "codemirror_mode": {
    "name": "ipython",
    "version": 3
   },
   "file_extension": ".py",
   "mimetype": "text/x-python",
   "name": "python",
   "nbconvert_exporter": "python",
   "pygments_lexer": "ipython3",
   "version": "3.11.1"
  }
 },
 "nbformat": 4,
 "nbformat_minor": 5
}
